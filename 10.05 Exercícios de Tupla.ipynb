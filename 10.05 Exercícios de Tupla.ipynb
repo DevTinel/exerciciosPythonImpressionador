{
 "cells": [
  {
   "cell_type": "markdown",
   "metadata": {},
   "source": [
    "# Exercícios\n",
    "\n",
    "São exercícios bem parecidos com os que fizemos com listas. Mas na tupla, podemos não só trabalhar com índices, mas fazer o \"unpacking\" das tuplas, o que pode facilitar nossos códigos.\n",
    "\n",
    "## 1. Análise de Vendas\n",
    "\n",
    "Nesse exercício vamos fazer uma \"análise simples\" de atingimento de Meta.\n",
    "\n",
    "Temos uma lista com os vendedores e os valores de vendas e queremos identificar (printar) quais os vendedores que bateram a meta e qual foi o valor que eles venderam."
   ]
  },
  {
   "cell_type": "code",
   "execution_count": 38,
   "metadata": {},
   "outputs": [
    {
     "name": "stdout",
     "output_type": "stream",
     "text": [
      "João bateu a meta ,vendeu 15000 unidades\n",
      "Julia bateu a meta ,vendeu 27000 unidades\n",
      "Ana bateu a meta ,vendeu 10300 unidades\n"
     ]
    }
   ],
   "source": [
    "meta = 10000\n",
    "vendas = [\n",
    "    ('João', 15000),\n",
    "    ('Julia', 27000),\n",
    "    ('Marcus', 9900),\n",
    "    ('Maria', 3750),\n",
    "    ('Ana', 10300),\n",
    "    ('Alon', 7870),\n",
    "]\n",
    "for vendedor,qntd in vendas:\n",
    "    if qntd > meta:\n",
    "        print(f'{vendedor} bateu a meta ,vendeu {qntd} unidades')\n",
    "\n"
   ]
  },
  {
   "cell_type": "markdown",
   "metadata": {},
   "source": [
    "## 2. Comparação com Ano Anterior\n",
    "\n",
    "Digamos que você está analisando as vendas de produtos de um ecommerce e quer identificar quais produtos tiveram no ano de 2020 mais vendas do que no ano de 2019, para reportar isso para a diretoria.\n",
    "\n",
    "Sua resposta pode ser um print de cada produto, qual foi a venda de 2019, a venda de 2020 e o % de crescimento de 2020 para 2019.\n",
    "\n",
    "Lembrando, para calcular o % de crescimento de um produto de um ano para o outro, podemos fazer: (vendas_produto2020/vendas_produto2019 - 1)\n",
    "\n",
    "A lógica da tupla é: (produto, vendas2019, vendas2020)"
   ]
  },
  {
   "cell_type": "code",
   "execution_count": 87,
   "metadata": {},
   "outputs": [
    {
     "name": "stdout",
     "output_type": "stream",
     "text": [
      "Foram vendidos 558147 de iphone em 2019 e 951642 em 2020 e a diferença entre os anos foi de 70.5%\n",
      "Foram vendidos 405252 de tv em 2019 e 787604 em 2020 e a diferença entre os anos foi de 94.3%\n",
      "Foram vendidos 718654 de máquina de café em 2019 e 867660 em 2020 e a diferença entre os anos foi de 20.7%\n",
      "Foram vendidos 422760 de notebook dell em 2019 e 694913 em 2020 e a diferença entre os anos foi de 64.4%\n",
      "Foram vendidos 154753 de notebook hp em 2019 e 539704 em 2020 e a diferença entre os anos foi de 248.8%\n",
      "Foram vendidos 438508 de microsoft surface em 2019 e 667179 em 2020 e a diferença entre os anos foi de 52.1%\n",
      "Foram vendidos 237467 de webcam em 2019 e 295633 em 2020 e a diferença entre os anos foi de 24.5%\n",
      "Foram vendidos 489705 de caixa de som em 2019 e 725316 em 2020 e a diferença entre os anos foi de 48.1%\n",
      "Foram vendidos 328311 de microfone em 2019 e 644622 em 2020 e a diferença entre os anos foi de 96.3%\n",
      "Foram vendidos 591120 de câmera canon em 2019 e 994303 em 2020 e a diferença entre os anos foi de 68.2%\n",
      "Os produtos mais vendidos em 2020 foram iphone, tv, máquina de café, notebook dell, notebook hp, microsoft surface, webcam, caixa de som, microfone, câmera canon, \n"
     ]
    }
   ],
   "source": [
    "vendas_produtos = [('iphone', 558147, 951642), ('galaxy', 712350, 244295), ('ipad', 573823, 26964), ('tv', 405252, 787604), ('máquina de café', 718654, 867660), ('kindle', 531580, 78830), ('geladeira', 973139, 710331), ('adega', 892292, 646016), ('notebook dell', 422760, 694913), ('notebook hp', 154753, 539704), ('notebook asus', 887061, 324831), ('microsoft surface', 438508, 667179), ('webcam', 237467, 295633), ('caixa de som', 489705, 725316), ('microfone', 328311, 644622), ('câmera canon', 591120, 994303)]\n",
    "\n",
    "produtos_mais_vendidos_2020 = ''\n",
    "porcentagem = []\n",
    "for produto,venda_2019,venda_2020 in vendas_produtos:\n",
    "  if venda_2020 > venda_2019:\n",
    "    porcentagem_diferenca = venda_2020 / venda_2019 - 1\n",
    "    produtos_mais_vendidos_2020 += produto + ', '\n",
    "    porcentagem.append(porcentagem_diferenca)\n",
    "    print(f'Foram vendidos {venda_2019} de {produto} em 2019 e {venda_2020} em 2020 e a diferença entre os anos foi de {porcentagem_diferenca:.1%}')\n",
    "print(f'Os produtos mais vendidos em 2020 foram {produtos_mais_vendidos_2020}')"
   ]
  }
 ],
 "metadata": {
  "kernelspec": {
   "display_name": "Python 3",
   "language": "python",
   "name": "python3"
  },
  "language_info": {
   "codemirror_mode": {
    "name": "ipython",
    "version": 3
   },
   "file_extension": ".py",
   "mimetype": "text/x-python",
   "name": "python",
   "nbconvert_exporter": "python",
   "pygments_lexer": "ipython3",
   "version": "3.8.3"
  }
 },
 "nbformat": 4,
 "nbformat_minor": 4
}
